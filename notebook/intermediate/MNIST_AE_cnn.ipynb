{
 "cells": [
  {
   "cell_type": "code",
   "execution_count": 1,
   "metadata": {
    "collapsed": true
   },
   "outputs": [],
   "source": [
    "from libPytorch.utility_dataset import *\n",
    "from libPytorch.model_AE import *\n",
    "\n",
    "from IPython.display import clear_output\n",
    "\n",
    "from pylab import *\n",
    "%matplotlib inline\n",
    "#%qtconsole #--style monokai"
   ]
  },
  {
   "cell_type": "markdown",
   "metadata": {},
   "source": [
    "# 0. Load dataset and Model"
   ]
  },
  {
   "cell_type": "code",
   "execution_count": 2,
   "metadata": {},
   "outputs": [],
   "source": [
    "trnset = np.fromfile(\"../../data/MNIST/MNIST_train_data.dat\").reshape(-1,785)\n",
    "#trnset[:,:-1] = trnset[:,:-1]/np.max(trnset[:,:-1],axis=1)[:,None]\n",
    "trnset  = 2*trnset-1\n",
    "model   = dcAE_MNIST()\n",
    "\n",
    "trnset  = tcDataset(trnset,shape=(-1,1,28,28))\n",
    "batches = DataLoader(trnset, batch_size=100, shuffle=False)"
   ]
  },
  {
   "cell_type": "markdown",
   "metadata": {},
   "source": [
    "# 1. Training"
   ]
  },
  {
   "cell_type": "code",
   "execution_count": 3,
   "metadata": {},
   "outputs": [
    {
     "name": "stdout",
     "output_type": "stream",
     "text": [
      "[   20,   600] loss: 2445.876\n"
     ]
    }
   ],
   "source": [
    "optimizer = optim.Adam(model.parameters(), lr=1e-3)\n",
    "\n",
    "lossfunc  = nn.MSELoss(size_average=False)\n",
    "# begin Training\n",
    "for epoch in range(20):\n",
    "    running_loss = 0.0\n",
    "    for i, batch in enumerate(batches):\n",
    "        \n",
    "        # 1.get the inputs\n",
    "        inputs = Variable(batch[\"data\"])\n",
    "        # 2.zero the parameter gradients\n",
    "        optimizer.zero_grad()\n",
    "        # 3.forward + backward + optimize \n",
    "        recons, codes = model(inputs)\n",
    "        loss = lossfunc(recons, inputs)\n",
    "        \n",
    "        loss.backward()\n",
    "        optimizer.step()\n",
    "        \n",
    "        \n",
    "        # TRAINING DESHBOARD #\n",
    "        ##################################################################\n",
    "        running_loss += loss.data[0]\n",
    "        if i % 100 == 99:    # print every 100 mini-batches\n",
    "            print('[{:5d}, {:5d}] loss: {:5.3f}'.\n",
    "                  format(epoch+1, i+1, running_loss/100))\n",
    "            clear_output(wait=True)\n",
    "            running_loss = 0.0\n",
    "        ##################################################################"
   ]
  },
  {
   "cell_type": "code",
   "execution_count": 8,
   "metadata": {
    "collapsed": true
   },
   "outputs": [],
   "source": [
    "codes.tofile('../../data/MNIST/MNIST_train_data_AEcnn.dat')"
   ]
  },
  {
   "cell_type": "code",
   "execution_count": 10,
   "metadata": {},
   "outputs": [
    {
     "data": {
      "text/plain": [
       "(60000, 36)"
      ]
     },
     "execution_count": 10,
     "metadata": {},
     "output_type": "execute_result"
    }
   ],
   "source": [
    "codes.shape"
   ]
  },
  {
   "cell_type": "code",
   "execution_count": 7,
   "metadata": {},
   "outputs": [
    {
     "data": {
      "image/png": "[encoded data removed]",
      "text/plain": [
       "<matplotlib.figure.Figure at 0x116a8e4a8>"
      ]
     },
     "metadata": {},
     "output_type": "display_data"
    }
   ],
   "source": [
    "fig = plt.figure(figsize=(10,3))\n",
    "ncol = 10\n",
    "for col in range(ncol):\n",
    "    plt.subplot(2,ncol,col+1)\n",
    "    a = trnset[col]['data']\n",
    "    a = a.reshape(28,28).T\n",
    "    plt.imshow(a)\n",
    "    plt.axis('off')\n",
    "    \n",
    "    plt.subplot(2, ncol,ncol+col+1)\n",
    "    a = recons[col]\n",
    "    a = a.reshape(28,28).T\n",
    "    #a = a/a.max()\n",
    "    #a[a<1e-3] = np.zeros_like(a)[a<1e-3]\n",
    "    #a[a>6e-1] = np.ones2_like(a)[a>7e-1]\n",
    "    plt.imshow(a)\n",
    "    plt.axis('off')"
   ]
  },
  {
   "cell_type": "code",
   "execution_count": 9,
   "metadata": {
    "collapsed": true
   },
   "outputs": [],
   "source": [
    "torch.save(model.cpu(),'../../data/model/MNIST_AEcnn.pt') "
   ]
  },
  {
   "cell_type": "code",
   "execution_count": 13,
   "metadata": {},
   "outputs": [
    {
     "data": {
      "text/plain": [
       "<matplotlib.image.AxesImage at 0x140862390>"
      ]
     },
     "execution_count": 13,
     "metadata": {},
     "output_type": "execute_result"
    },
    {
     "data": {
      "image/png": "[encoded data removed]",
      "text/plain": [
       "<matplotlib.figure.Figure at 0x13db1e128>"
      ]
     },
     "metadata": {},
     "output_type": "display_data"
    }
   ],
   "source": [
    "    plt.subplot(2, ncol,ncol+col+1)\n",
    "    a = recons[col]\n",
    "    a = a.reshape(28,28).T\n",
    "    plt.imshow(a)"
   ]
  }
 ],
 "metadata": {
  "kernelspec": {
   "display_name": "Python 3",
   "language": "python",
   "name": "python3"
  },
  "language_info": {
   "codemirror_mode": {
    "name": "ipython",
    "version": 3
   },
   "file_extension": ".py",
   "mimetype": "text/x-python",
   "name": "python",
   "nbconvert_exporter": "python",
   "pygments_lexer": "ipython3",
   "version": "3.6.1"
  }
 },
 "nbformat": 4,
 "nbformat_minor": 1
}

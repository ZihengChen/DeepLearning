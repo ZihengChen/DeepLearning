{
 "cells": [
  {
   "cell_type": "code",
   "execution_count": 1,
   "metadata": {
    "collapsed": true
   },
   "outputs": [],
   "source": [
    "from pytorch_libraries.utility_dataset import *\n",
    "from pytorch_libraries.model_CNN import *\n",
    "\n",
    "from IPython.display import clear_output\n",
    "\n",
    "from pylab import *\n",
    "%matplotlib inline\n",
    "#%qtconsole #--style monokai"
   ]
  },
  {
   "cell_type": "markdown",
   "metadata": {},
   "source": [
    "# 0. Load dataset and Model"
   ]
  },
  {
   "cell_type": "code",
   "execution_count": 109,
   "metadata": {},
   "outputs": [],
   "source": [
    "trnset = np.fromfile(\"../data/MNIST/MNIST_train_data.dat\").reshape(-1,785)\n",
    "tstset = np.fromfile(\"../data/MNIST/MNIST_test_data.dat\" ).reshape(-1,785)\n",
    "trnset[:,-1] = trnset[:,-1] - 1 # make label 0-9\n",
    "tstset[:,-1] = tstset[:,-1] - 1 # make label 0-9\n",
    "\n",
    "model = CNN_MNIST().cuda()\n",
    "#model = torch.load('../data/model/MNIST_CNN.pt').cuda()\n",
    "trans = transforms.Compose([transforms.ToTensor(),\n",
    "                            transforms.Normalize(mean=(0.5,0.5,0.5),\n",
    "                                                 std=(0.5,0.5,0.5))\n",
    "                           ])\n",
    "\n",
    "trnset = tcDataset(trnset,shape=(-1,1,28,28))#,transform=trans)\n",
    "tstset = tcDataset(tstset,shape=(-1,1,28,28))#,transform=trans)"
   ]
  },
  {
   "cell_type": "markdown",
   "metadata": {},
   "source": [
    "# 1. Training"
   ]
  },
  {
   "cell_type": "code",
   "execution_count": 111,
   "metadata": {},
   "outputs": [
    {
     "name": "stdout",
     "output_type": "stream",
     "text": [
      "[   10,   600] loss: 0.051, acc: 0.980\n"
     ]
    }
   ],
   "source": [
    "optimizer = optim.Adam(model.parameters(), lr=1e-3)\n",
    "batches   = DataLoader(trnset,batch_size=100, shuffle=True)\n",
    "\n",
    "model.train()\n",
    "# begin Training\n",
    "for epoch in range(10):\n",
    "    running_loss = 0.0\n",
    "    for i, batch in enumerate(batches):\n",
    "        \n",
    "        # 1.get the inputs\n",
    "        inputs = Variable(batch[\"data\"]).cuda()\n",
    "        labels = Variable(batch[\"label\"]).cuda()\n",
    "        # 2.zero the parameter gradients\n",
    "        optimizer.zero_grad()\n",
    "        # 3.forward + backward + optimize\n",
    "        outputs = model(inputs)\n",
    "        loss    = F.nll_loss( outputs, labels )\n",
    "        loss.backward()\n",
    "        optimizer.step()\n",
    "        \n",
    "        \n",
    "        # TRAINING DESHBOARD #\n",
    "        ##################################################################\n",
    "        running_loss += loss.data[0]\n",
    "        if i % 100 == 99:    # print every 100 mini-batches\n",
    "            predicts = (outputs.data).max(1)[1]\n",
    "            corrects = predicts.eq(labels.data).sum()\n",
    "            accuracy = corrects/batches.batch_size\n",
    "            print('[{:5d}, {:5d}] loss: {:5.3f}, acc: {:5.3f}'.\n",
    "                  format(epoch+1, i+1, running_loss/100, accuracy))\n",
    "            clear_output(wait=True)\n",
    "            running_loss = 0.0\n",
    "        ##################################################################\n"
   ]
  },
  {
   "cell_type": "markdown",
   "metadata": {},
   "source": [
    "# 2. Test Accuracy"
   ]
  },
  {
   "cell_type": "code",
   "execution_count": null,
   "metadata": {},
   "outputs": [],
   "source": [
    "corrects = 0\n",
    "model.eval()\n",
    "model = model.cpu()\n",
    "for batch in DataLoader(trnset,batch_size=len(trnset)):\n",
    "    inputs  = Variable(batch[\"data\"])\n",
    "    labels  = Variable(batch[\"label\"])\n",
    "    outputs  = model(inputs)\n",
    "    predicts = (outputs.data).max(1)[1] # get the index of the max log-probability\n",
    "    corrects = corrects + predicts.eq(labels.data).sum()\n",
    "    \n",
    "print(\"acc:{:5.3f}\".format(corrects/len(tstset)))"
   ]
  },
  {
   "cell_type": "code",
   "execution_count": null,
   "metadata": {
    "collapsed": true
   },
   "outputs": [],
   "source": [
    "torch.save(model.cpu(),'../data/model/MNIST_CNN.pt') "
   ]
  }
 ],
 "metadata": {
  "kernelspec": {
   "display_name": "Python 3",
   "language": "python",
   "name": "python3"
  },
  "language_info": {
   "codemirror_mode": {
    "name": "ipython",
    "version": 3
   },
   "file_extension": ".py",
   "mimetype": "text/x-python",
   "name": "python",
   "nbconvert_exporter": "python",
   "pygments_lexer": "ipython3",
   "version": "3.6.1"
  }
 },
 "nbformat": 4,
 "nbformat_minor": 1
}

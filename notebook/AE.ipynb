{
 "cells": [
  {
   "cell_type": "code",
   "execution_count": 12,
   "metadata": {
    "collapsed": true
   },
   "outputs": [],
   "source": [
    "from libPytorch.utility_dataset import *\n",
    "from libPytorch.model_AE import *\n",
    "\n",
    "from IPython.display import clear_output\n",
    "\n",
    "from pylab import *\n",
    "%matplotlib inline\n",
    "#%qtconsole #--style monokai"
   ]
  },
  {
   "cell_type": "markdown",
   "metadata": {},
   "source": [
    "# 0. Load dataset and Model"
   ]
  },
  {
   "cell_type": "code",
   "execution_count": 13,
   "metadata": {},
   "outputs": [],
   "source": [
    "trnset = np.fromfile(\"../data/MNIST/MNIST_train_data.dat\").reshape(-1,785)\n",
    "\n",
    "trnset  = tcDataset(trnset)\n",
    "batches = DataLoader(trnset, batch_size=100, shuffle=False)\n",
    "model   = AE()"
   ]
  },
  {
   "cell_type": "markdown",
   "metadata": {},
   "source": [
    "# 1. Training"
   ]
  },
  {
   "cell_type": "code",
   "execution_count": null,
   "metadata": {},
   "outputs": [
    {
     "name": "stdout",
     "output_type": "stream",
     "text": [
      "[   15,   500] loss: 2952.539\n"
     ]
    }
   ],
   "source": [
    "optimizer = optim.Adam(model.parameters(), lr=1e-3)\n",
    "lossfunc  = nn.MSELoss(size_average=False)\n",
    "model.cuda()\n",
    "model.train()\n",
    "# begin Training\n",
    "for epoch in range(20):\n",
    "    running_loss = 0.0\n",
    "    for i, batch in enumerate(batches):\n",
    "        \n",
    "        # 1.get the inputs\n",
    "        inputs = Variable(batch[\"data\"]).cuda()\n",
    "        labels = Variable(batch[\"label\"]).cuda()\n",
    "        # 2.zero the parameter gradients\n",
    "        optimizer.zero_grad()\n",
    "        # 3.forward + backward + optimize \n",
    "        recons, codes = model(inputs)\n",
    "        loss = lossfunc(recons, inputs)\n",
    "        \n",
    "        loss.backward()\n",
    "        optimizer.step()\n",
    "        \n",
    "        # TRAINING DESHBOARD #\n",
    "        ##################################################################\n",
    "        running_loss += loss.data[0]\n",
    "        if i % 100 == 99:    # print every 100 mini-batches\n",
    "            print('[{:5d}, {:5d}] loss: {:5.3f}'.\n",
    "                  format(epoch+1, i+1, running_loss/100))\n",
    "            clear_output(wait=True)\n",
    "            running_loss = 0.0\n",
    "        ##################################################################"
   ]
  },
  {
   "cell_type": "markdown",
   "metadata": {},
   "source": [
    "# 2. Test Accuracy"
   ]
  },
  {
   "cell_type": "code",
   "execution_count": 10,
   "metadata": {
    "collapsed": true
   },
   "outputs": [],
   "source": [
    "model.cpu()\n",
    "model.eval()\n",
    "\n",
    "for batch in DataLoader(trnset,batch_size=len(trnset), shuffle=False):\n",
    "    inputs  = Variable(batch[\"data\"])\n",
    "    labels  = Variable(batch[\"label\"])\n",
    "    recons, codes = model(inputs)\n",
    "    \n",
    "codes = codes.data.numpy()\n",
    "recons = recons.data.numpy()"
   ]
  },
  {
   "cell_type": "code",
   "execution_count": 11,
   "metadata": {},
   "outputs": [
    {
     "data": {
      "image/png": "[encoded data removed]",
      "text/plain": [
       "<matplotlib.figure.Figure at 0x141bf8198>"
      ]
     },
     "metadata": {},
     "output_type": "display_data"
    }
   ],
   "source": [
    "fig = plt.figure(figsize=(10,3))\n",
    "ncol = 10\n",
    "for col in range(ncol):\n",
    "    plt.subplot(2,ncol,col+1)\n",
    "    a = trnset[col]['data']\n",
    "    a = a.reshape(28,28).T\n",
    "    imshow(a,cmap='gray')\n",
    "    plt.axis('off')\n",
    "    \n",
    "    plt.subplot(2,ncol,ncol+col+1)\n",
    "    a = recons[col]\n",
    "    a = a.reshape(28,28).T\n",
    "    imshow(a,cmap='gray')\n",
    "    plt.axis('off')\n",
    "plt.savefig(\"../plot/dcAE.png\")"
   ]
  },
  {
   "cell_type": "code",
   "execution_count": null,
   "metadata": {
    "collapsed": true
   },
   "outputs": [],
   "source": []
  }
 ],
 "metadata": {
  "kernelspec": {
   "display_name": "Python 3",
   "language": "python",
   "name": "python3"
  },
  "language_info": {
   "codemirror_mode": {
    "name": "ipython",
    "version": 3
   },
   "file_extension": ".py",
   "mimetype": "text/x-python",
   "name": "python",
   "nbconvert_exporter": "python",
   "pygments_lexer": "ipython3",
   "version": "3.6.1"
  }
 },
 "nbformat": 4,
 "nbformat_minor": 1
}

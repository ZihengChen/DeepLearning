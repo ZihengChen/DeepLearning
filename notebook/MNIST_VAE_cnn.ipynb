{
 "cells": [
  {
   "cell_type": "code",
   "execution_count": 1,
   "metadata": {
    "collapsed": true
   },
   "outputs": [],
   "source": [
    "from pytorch_libraries.utility_dataset import *\n",
    "from pytorch_libraries.model_VAE import *\n",
    "from IPython.display import clear_output\n",
    "from pylab import *\n",
    "%matplotlib inline\n",
    "#%qtconsole #--style monokai"
   ]
  },
  {
   "cell_type": "markdown",
   "metadata": {},
   "source": [
    "# 0. Load dataset and Model"
   ]
  },
  {
   "cell_type": "code",
   "execution_count": 18,
   "metadata": {},
   "outputs": [],
   "source": [
    "trnset = np.fromfile(\"../data/MNIST/MNIST_train_data.dat\").reshape(-1,785)\n",
    "\n",
    "trnset[:,:-1] = trnset[:,:-1]/trnset[:,:-1].max(axis=1)[:,None]\n",
    "trnset[:, -1] = trnset[:,-1]-1\n",
    "\n",
    "model = torch.load('../data/model/MNIST_VAEcnn.pt').cuda()\n",
    "#model = VAEcnn_MNIST().cuda()\n",
    "\n",
    "trnset  = tcDataset(trnset,shape=(-1,784))\n",
    "batches = DataLoader(trnset, batch_size=100, shuffle=False)"
   ]
  },
  {
   "cell_type": "markdown",
   "metadata": {},
   "source": [
    "# 1. Training"
   ]
  },
  {
   "cell_type": "code",
   "execution_count": 4,
   "metadata": {},
   "outputs": [
    {
     "name": "stdout",
     "output_type": "stream",
     "text": [
      "[   50,   600] loss: 8686.792\n"
     ]
    }
   ],
   "source": [
    "optimizer = optim.Adam(model.parameters(), lr=1e-3)\n",
    "\n",
    "model.train()\n",
    "# begin Training\n",
    "for epoch in range(50):\n",
    "    running_loss = 0.0\n",
    "    for i, batch in enumerate(batches):\n",
    "        \n",
    "        # 1.get the inputs\n",
    "        inputs = Variable(batch[\"data\"]).cuda()\n",
    "        # 2.zero the parameter gradients\n",
    "        optimizer.zero_grad()\n",
    "        # 3.forward + backward + optimize\n",
    "        recons, mu, logvar = model(inputs)\n",
    "        loss = loss_BCEandKLD(recons, inputs, mu, logvar, kld_factor=0.4)\n",
    "        \n",
    "        loss.backward()\n",
    "        optimizer.step()\n",
    "        \n",
    "        # TRAINING DESHBOARD #\n",
    "        ##################################################################\n",
    "        running_loss += loss.data[0]\n",
    "        if i % 100 == 99:    # print every 100 mini-batches\n",
    "            print('[{:5d}, {:5d}] loss: {:5.3f}'.\n",
    "                  format(epoch+1, i+1, running_loss/100))\n",
    "            clear_output(wait=True)\n",
    "            running_loss = 0.0\n",
    "        ##################################################################"
   ]
  },
  {
   "cell_type": "markdown",
   "metadata": {},
   "source": [
    "# 2. Test Decoder"
   ]
  },
  {
   "cell_type": "code",
   "execution_count": 22,
   "metadata": {},
   "outputs": [],
   "source": [
    "seed   = Variable(generator_GetNormalSeed(40,32)).cuda()\n",
    "images = model.decode(seed)\n",
    "images = images.cpu()\n",
    "images = images.data.numpy()"
   ]
  },
  {
   "cell_type": "code",
   "execution_count": 23,
   "metadata": {},
   "outputs": [
    {
     "data": {
      "image/png": "[encoded data removed]",
      "text/plain": [
       "<matplotlib.figure.Figure at 0x138d6c898>"
      ]
     },
     "metadata": {},
     "output_type": "display_data"
    }
   ],
   "source": [
    "#fig = plt.figure()\n",
    "plt.rc(\"figure\",facecolor=\"k\",figsize=(10,6))\n",
    "plt.style.use('dark_background')\n",
    "nrow = 5\n",
    "ncol = 8\n",
    "\n",
    "for row in range(nrow):\n",
    "    for col in range(ncol):\n",
    "        index = ncol*row + col\n",
    "        plt.subplot(nrow,ncol, index+1)\n",
    "        image = images[index]\n",
    "        image = image.reshape(28,28).T\n",
    "        plt.imshow(image,vmax=0.9,vmin=0.1,cmap='gray')\n",
    "        plt.axis('off')\n",
    "plt.savefig('../plot/vae_cnn.png',dpi=300)"
   ]
  },
  {
   "cell_type": "code",
   "execution_count": 10,
   "metadata": {
    "collapsed": true
   },
   "outputs": [],
   "source": [
    "torch.save(model.cpu(),'../data/model/MNIST_VAEcnn.pt') "
   ]
  },
  {
   "cell_type": "markdown",
   "metadata": {
    "collapsed": true
   },
   "source": [
    "# 3. Continue to Train decoder with GAN"
   ]
  },
  {
   "cell_type": "code",
   "execution_count": 5,
   "metadata": {},
   "outputs": [],
   "source": [
    "from pytorch_libraries.model_GAN import *\n",
    "\n",
    "class Deflatten(nn.Module):\n",
    "    def forward(self, x):\n",
    "        x = x.view(-1, 100,5,5)\n",
    "        return x\n",
    "    \n",
    "dis = DIScnn_MNIST().cuda()   \n",
    "gen = nn.Sequential(model.fc4, nn.ReLU(),\n",
    "                    model.fc5, nn.ReLU(),\n",
    "                    model.fc6, nn.ReLU(),\n",
    "                    Deflatten(),\n",
    "                    model.conv3, nn.ReLU(),\n",
    "                    model.conv4, nn.Sigmoid()\n",
    "                   ).cuda()\n",
    "dis = torch.load('../data/model/MNIST_DCGAN_DIS.pt').cuda()"
   ]
  },
  {
   "cell_type": "code",
   "execution_count": 6,
   "metadata": {},
   "outputs": [],
   "source": [
    "BATCHSIZE = 100\n",
    "SEEDDIM = 32\n",
    "# define target\n",
    "target_real = Variable(torch.ones(BATCHSIZE,1)).cuda()\n",
    "target_fake = Variable(torch.zeros(BATCHSIZE,1)).cuda()\n",
    "# define optimizer\n",
    "gen_optimizer = optim.Adam(gen.parameters(), lr=2e-4)\n",
    "dis_optimizer = optim.Adam(dis.parameters(), lr=2e-4)"
   ]
  },
  {
   "cell_type": "code",
   "execution_count": 7,
   "metadata": {},
   "outputs": [
    {
     "name": "stdout",
     "output_type": "stream",
     "text": [
      "[   20,   600] gen-loss: 5.563258, dis-loss: 0.125762\n"
     ]
    }
   ],
   "source": [
    "\n",
    "gen.train()\n",
    "dis.train()\n",
    "\n",
    "# begin Training\n",
    "for epoch in range(20):\n",
    "    running_gen_loss = 0.0\n",
    "    running_dis_loss = 0.0\n",
    "    for i, batch in enumerate(batches):\n",
    "        \n",
    "        # 1. training dis\n",
    "        dis_optimizer.zero_grad()\n",
    "        \n",
    "        # 1.1 get input\n",
    "        inputs_real = Variable(batch[\"data\"]).cuda()\n",
    "        gen_seed    = Variable(generator_GetNormalSeed(BATCHSIZE,SEEDDIM)).cuda()\n",
    "        inputs_fake = gen(gen_seed)\n",
    "        \n",
    "        # 1.2 get scores for real and fake\n",
    "        score_real = dis(inputs_real *2-1)\n",
    "        score_fake = dis(inputs_fake *2-1)\n",
    "        \n",
    "        # 1.3 calc loss\n",
    "        dis_loss = discriminator_loss(score_real, score_fake, \n",
    "                                      target_real,target_fake)\n",
    "        # 1.4 backprop and optimize\n",
    "        dis_loss.backward()\n",
    "        dis_optimizer.step()\n",
    "        \n",
    "        # 2. training gen\n",
    "        gen_optimizer.zero_grad()\n",
    "        \n",
    "        gen_seed = Variable(generator_GetNormalSeed(BATCHSIZE,SEEDDIM)).cuda()\n",
    "        gen_loss = generator_loss( dis(gen(gen_seed) *2-1), target_real)        \n",
    "        \n",
    "        gen_loss.backward()\n",
    "        gen_optimizer.step()   \n",
    "          \n",
    "\n",
    "        # TRAINING DESHBOARD #\n",
    "        ##################################################################\n",
    "        running_gen_loss += gen_loss.data[0]\n",
    "        running_dis_loss += dis_loss.data[0]\n",
    "        if i % 100 == 99:    # print every 100 mini-batches\n",
    "            print('[{:5d}, {:5d}] gen-loss: {:8.6f}, dis-loss: {:8.6f}'.\n",
    "                  format(epoch+1, i+1, running_gen_loss/100, running_dis_loss/100))\n",
    "            clear_output(wait=True)\n",
    "            running_gen_loss = 0.0\n",
    "            running_dis_loss = 0.0\n",
    "        ##################################################################"
   ]
  },
  {
   "cell_type": "markdown",
   "metadata": {},
   "source": [
    "# 4. Test Final Decoder"
   ]
  },
  {
   "cell_type": "code",
   "execution_count": 19,
   "metadata": {},
   "outputs": [],
   "source": [
    "seed   = Variable(generator_GetNormalSeed(40,32))#.cuda()\n",
    "images = gen(seed)\n",
    "images = images.cpu()\n",
    "images = images.data.numpy()"
   ]
  },
  {
   "cell_type": "code",
   "execution_count": 20,
   "metadata": {},
   "outputs": [
    {
     "data": {
      "image/png": "[encoded data removed]",
      "text/plain": [
       "<matplotlib.figure.Figure at 0x1383b77f0>"
      ]
     },
     "metadata": {},
     "output_type": "display_data"
    }
   ],
   "source": [
    "#fig = plt.figure()\n",
    "plt.rc(\"figure\",facecolor=\"k\",figsize=(10,6))\n",
    "plt.style.use('dark_background')\n",
    "nrow = 5\n",
    "ncol = 8\n",
    "\n",
    "for row in range(nrow):\n",
    "    for col in range(ncol):\n",
    "        index = ncol*row + col\n",
    "        plt.subplot(nrow,ncol, index+1)\n",
    "        image = images[index]\n",
    "        image = image.reshape(28,28).T\n",
    "        plt.imshow(image,vmax=0.9,vmin=0.1,cmap='gray')\n",
    "        plt.axis('off')\n",
    "plt.savefig('../plot/vae_DCGAN.png',dpi=300)"
   ]
  },
  {
   "cell_type": "code",
   "execution_count": null,
   "metadata": {
    "collapsed": true
   },
   "outputs": [],
   "source": []
  },
  {
   "cell_type": "code",
   "execution_count": 10,
   "metadata": {},
   "outputs": [
    {
     "name": "stderr",
     "output_type": "stream",
     "text": [
      "/Users/zihengchen/anaconda/lib/python3.6/site-packages/torch/serialization.py:147: UserWarning: Couldn't retrieve source code for container of type Deflatten. It won't be checked for correctness upon loading.\n",
      "  \"type \" + obj.__name__ + \". It won't be checked \"\n"
     ]
    }
   ],
   "source": [
    "torch.save(gen.cpu(),'../data/model/MNIST_VAE_DCGAN_gen.pt') \n",
    "torch.save(dis.cpu(),'../data/model/MNIST_VAE_DCGAN_dis.pt') "
   ]
  },
  {
   "cell_type": "code",
   "execution_count": null,
   "metadata": {
    "collapsed": true
   },
   "outputs": [],
   "source": []
  }
 ],
 "metadata": {
  "kernelspec": {
   "display_name": "Python 3",
   "language": "python",
   "name": "python3"
  },
  "language_info": {
   "codemirror_mode": {
    "name": "ipython",
    "version": 3
   },
   "file_extension": ".py",
   "mimetype": "text/x-python",
   "name": "python",
   "nbconvert_exporter": "python",
   "pygments_lexer": "ipython3",
   "version": "3.6.1"
  }
 },
 "nbformat": 4,
 "nbformat_minor": 1
}

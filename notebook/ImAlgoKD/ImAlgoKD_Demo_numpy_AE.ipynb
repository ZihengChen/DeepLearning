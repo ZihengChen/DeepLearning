{
 "cells": [
  {
   "cell_type": "code",
   "execution_count": 1,
   "metadata": {
    "collapsed": true
   },
   "outputs": [],
   "source": [
    "#%run utility_getinputhits.py"
   ]
  },
  {
   "cell_type": "code",
   "execution_count": 48,
   "metadata": {
    "collapsed": true
   },
   "outputs": [],
   "source": [
    "from pylab import *\n",
    "import pandas as pd\n",
    "from timeit import default_timer as timer"
   ]
  },
  {
   "cell_type": "code",
   "execution_count": 62,
   "metadata": {
    "collapsed": true
   },
   "outputs": [],
   "source": [
    "Points = np.fromfile(\"../../data/MNIST/MNIST_train_data_AEcnn.dat\").reshape(-1,36)\n",
    "Points = Points[:10000,]\n",
    "Points = Points/Points.max()\n",
    "nPoints,kPoints = Points.shape\n",
    "wPoints = np.ones(nPoints)"
   ]
  },
  {
   "cell_type": "code",
   "execution_count": 63,
   "metadata": {
    "collapsed": true
   },
   "outputs": [],
   "source": [
    "def dis(p1,p2):\n",
    "    return np.sqrt( np.sum((p1-p2)**2, axis=-1) )\n",
    "\n",
    "MAXDISTANCE        = 0.1\n",
    "KERNAL_R           = 0.05\n",
    "KERNAL_R_NORM      = 0.02\n",
    "KERNAL_R_POWER     = 2.0\n",
    "DECISION_RHO_KAPPA = 6.0\n",
    "DECISION_NHD       = 0.04\n",
    "CONTINUITY_NHD     = 0.1\n"
   ]
  },
  {
   "cell_type": "markdown",
   "metadata": {},
   "source": [
    "# 1. Find rho and NearestHigher"
   ]
  },
  {
   "cell_type": "code",
   "execution_count": 64,
   "metadata": {},
   "outputs": [
    {
     "name": "stdout",
     "output_type": "stream",
     "text": [
      "number of rechits: 10000\n",
      "time: 17703.2 ms\n"
     ]
    }
   ],
   "source": [
    "start = timer()\n",
    "\n",
    "# find rho and rhorank\n",
    "rho = []\n",
    "for i in range(nPoints):\n",
    "    dr = dis(Points, Points[i])\n",
    "    local = (dr<KERNAL_R)\n",
    "    irho = np.sum( wPoints[local] * np.exp( -(dr[local]/KERNAL_R_NORM)**KERNAL_R_POWER  ))\n",
    "    rho.append(irho)\n",
    "rho = np.array(rho)\n",
    "argsortrho = rho.argsort()[::-1]\n",
    "rhorank = np.empty(len(rho), int)\n",
    "rhorank[argsortrho] = np.arange(len(rho))\n",
    "\n",
    "# find NearstHiger and distance to NearestHigher\n",
    "nh,nhd = [],[]\n",
    "for i in range(nPoints):\n",
    "    irho  = rho[i]\n",
    "    irank = rhorank[i]\n",
    "    \n",
    "    higher = rho>irho\n",
    "    # if no points is higher\n",
    "    if not (True in higher): \n",
    "        nh. append(i)\n",
    "        nhd.append(MAXDISTANCE)\n",
    "    else:\n",
    "        drr  = dis(Points[higher], Points[i])\n",
    "        temp = np.arange(len(rho))[higher]\n",
    "        nh. append(temp[np.argmin(drr)])\n",
    "        nhd.append(np.min(drr))\n",
    "\n",
    "            \n",
    "nh = np.array(nh)\n",
    "nhd= np.array(nhd)\n",
    "\n",
    "end = timer()\n",
    "print(\"number of rechits: {}\".format(nPoints))\n",
    "\n",
    "print(\"time: {:3.6} ms\".format(1000*(end - start)))"
   ]
  },
  {
   "cell_type": "markdown",
   "metadata": {
    "collapsed": true
   },
   "source": [
    "# 2. Asign Clusters"
   ]
  },
  {
   "cell_type": "code",
   "execution_count": 65,
   "metadata": {
    "collapsed": true
   },
   "outputs": [],
   "source": [
    "cluster = -np.ones(nPoints,int)\n",
    "DECISION_RHO = rho.max()/DECISION_RHO_KAPPA\n",
    "\n",
    "# 2.2 find seeds\n",
    "selectseed = (rho>DECISION_RHO) & (nhd>DECISION_NHD)\n",
    "seedrho = rho[selectseed]\n",
    "temp = seedrho.argsort()[::-1]\n",
    "seedid = np.empty(len(seedrho), int)\n",
    "seedid[temp] = np.arange(len(seedrho))\n",
    "cluster[selectseed] = seedid\n",
    "\n",
    "# 2.3 asign clusters to seeds\n",
    "for ith in range(nPoints):\n",
    "    i = argsortrho[ith]\n",
    "    if  (cluster[i]<0) & (nhd[i]<CONTINUITY_NHD):\n",
    "        cluster[i] = cluster[nh[i]]"
   ]
  },
  {
   "cell_type": "code",
   "execution_count": 66,
   "metadata": {
    "collapsed": true
   },
   "outputs": [],
   "source": [
    "result = pd.DataFrame()\n",
    "result['rho'] = pd.Series(rho)\n",
    "result['rhorank'] = pd.Series(rhorank)\n",
    "result['nh'] = pd.Series(nh)\n",
    "result['nhd'] = pd.Series(nhd)\n",
    "\n",
    "result['isseed'] = pd.Series(selectseed)\n",
    "result['cluster'] = pd.Series(cluster)\n"
   ]
  },
  {
   "cell_type": "markdown",
   "metadata": {},
   "source": [
    "# Make Plots"
   ]
  },
  {
   "cell_type": "code",
   "execution_count": 67,
   "metadata": {
    "collapsed": true
   },
   "outputs": [],
   "source": [
    "%matplotlib inline\n",
    "plt.style.use('classic')\n",
    "plt.rc(\"figure\",facecolor=\"w\",figsize=(6,4))\n",
    "plt.rc(\"font\",size=10)\n",
    "plt.rc(\"savefig\",dpi=300)"
   ]
  },
  {
   "cell_type": "code",
   "execution_count": 68,
   "metadata": {},
   "outputs": [
    {
     "data": {
      "text/plain": [
       "<matplotlib.text.Text at 0x10c207cc0>"
      ]
     },
     "execution_count": 68,
     "metadata": {},
     "output_type": "execute_result"
    },
    {
     "data": {
      "image/png": "[encoded data removed]",
      "text/plain": [
       "<matplotlib.figure.Figure at 0x10aeed438>"
      ]
     },
     "metadata": {},
     "output_type": "display_data"
    }
   ],
   "source": [
    "plt.scatter(result.rho[result.isseed],result.nhd[result.isseed],marker='s',\n",
    "            s=70,edgecolor=\"k\",color=\"None\",label=\"seed rechits\")\n",
    "plt.scatter(result.rho, result.nhd, marker='.',edgecolor=\"None\",color=\"k\",label=\"rechits\")\n",
    "plt.axvline(DECISION_RHO,color=\"b\",label=\"seed requirement\")\n",
    "plt.axhline(DECISION_NHD,color=\"b\")\n",
    "\n",
    "plt.xlabel(\"Energy Density [GeV]\")\n",
    "plt.ylabel(\"Separation [cm]\")\n",
    "plt.legend(loc=\"upper left\",fontsize=12)\n",
    "plt.xlim(-5)\n",
    "plt.ylim(0,0.2)\n",
    "plt.grid(True)\n",
    "plt.title(\"Decision Plot\",fontsize=12)\n"
   ]
  },
  {
   "cell_type": "code",
   "execution_count": null,
   "metadata": {
    "collapsed": true
   },
   "outputs": [],
   "source": [
    "Images = np.fromfile(\"../../data/MNIST/MNIST_train_data.dat\").reshape(-1,785)\n",
    "Images = Images[:,0:-1]\n",
    "Images = Images[:1000]\n",
    "\n",
    "seeds = np.unique(result.cluster)\n",
    "seeds = seeds[seeds>=0]\n",
    "\n",
    "nrow = seeds.size\n",
    "ncol = 1\n",
    "\n",
    "i = 0\n",
    "for icl in seeds:\n",
    "    cl = Images[result.cluster==icl]\n",
    "    for j in range(ncol):\n",
    "        plt.subplot(nrow, ncol, i*ncol + j+1)\n",
    "        img = cl[j].reshape(28,28).T\n",
    "        plt.imshow(img,cmap=\"Greys\")\n",
    "        plt.axis('off')\n",
    "    i = i+1"
   ]
  },
  {
   "cell_type": "code",
   "execution_count": null,
   "metadata": {
    "collapsed": true
   },
   "outputs": [],
   "source": []
  },
  {
   "cell_type": "code",
   "execution_count": null,
   "metadata": {
    "collapsed": true
   },
   "outputs": [],
   "source": []
  },
  {
   "cell_type": "code",
   "execution_count": null,
   "metadata": {
    "collapsed": true
   },
   "outputs": [],
   "source": []
  },
  {
   "cell_type": "code",
   "execution_count": null,
   "metadata": {
    "collapsed": true
   },
   "outputs": [],
   "source": []
  }
 ],
 "metadata": {
  "kernelspec": {
   "display_name": "Python 3",
   "language": "python",
   "name": "python3"
  },
  "language_info": {
   "codemirror_mode": {
    "name": "ipython",
    "version": 3
   },
   "file_extension": ".py",
   "mimetype": "text/x-python",
   "name": "python",
   "nbconvert_exporter": "python",
   "pygments_lexer": "ipython3",
   "version": "3.6.1"
  }
 },
 "nbformat": 4,
 "nbformat_minor": 2
}

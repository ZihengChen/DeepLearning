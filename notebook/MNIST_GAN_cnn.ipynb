{
 "cells": [
  {
   "cell_type": "code",
   "execution_count": 1,
   "metadata": {
    "collapsed": true
   },
   "outputs": [],
   "source": [
    "from pytorch_libraries.utility_dataset import *\n",
    "from pytorch_libraries.model_GAN import *\n",
    "from IPython.display import clear_output\n",
    "from pylab import *\n",
    "%matplotlib inline\n",
    "#%qtconsole #--style monokai"
   ]
  },
  {
   "cell_type": "markdown",
   "metadata": {},
   "source": [
    "# 0. Load dataset and Model"
   ]
  },
  {
   "cell_type": "code",
   "execution_count": 2,
   "metadata": {
    "collapsed": true
   },
   "outputs": [],
   "source": [
    "BATCHSIZE = 60\n",
    "SEEDDIM   = 100\n",
    "\n",
    "# load CSV into [-1,1] image\n",
    "trnset = np.fromfile(\"../data/MNIST/MNIST_train_data.dat\").reshape(-1,785)\n",
    "trnset[:,:-1] = 2*trnset[:,:-1]/trnset[:,:-1].max(axis=1)[:,None] - 1\n",
    "trnset[:,-1]  = trnset[:,-1] - 1\n",
    "\n",
    "# data_loader\n",
    "trnset = tcDataset(trnset,shape=(-1,784))\n",
    "batches = DataLoader(trnset, batch_size=BATCHSIZE, shuffle=False)"
   ]
  },
  {
   "cell_type": "code",
   "execution_count": 3,
   "metadata": {},
   "outputs": [],
   "source": [
    "# define target\n",
    "target_real = Variable(torch.ones(BATCHSIZE,1)).cuda()\n",
    "target_fake = Variable(torch.zeros(BATCHSIZE,1)).cuda()\n",
    "\n",
    "# define model\n",
    "#gen = GENcnn_MNIST().cuda()\n",
    "#dis = DIScnn_MNIST().cuda()\n",
    "gen = torch.load('../data/model/MNIST_DCGAN_gen.pt').cuda()\n",
    "dis = torch.load('../data/model/MNIST_DCGAN_DIS.pt').cuda()\n",
    "\n",
    "# defile opt\n",
    "gen_optimizer = optim.Adam(gen.parameters(), lr=2e-4)\n",
    "dis_optimizer = optim.Adam(dis.parameters(), lr=2e-4)"
   ]
  },
  {
   "cell_type": "markdown",
   "metadata": {},
   "source": [
    "# 1. Training"
   ]
  },
  {
   "cell_type": "code",
   "execution_count": 4,
   "metadata": {},
   "outputs": [
    {
     "name": "stdout",
     "output_type": "stream",
     "text": [
      "[    1,  1000] gen-loss: 1.604110, dis-loss: 0.863369\n"
     ]
    }
   ],
   "source": [
    "gen.train()\n",
    "dis.train()\n",
    "# begin Training\n",
    "for epoch in range(1):\n",
    "    running_gen_loss = 0.0\n",
    "    running_dis_loss = 0.0\n",
    "    for i, batch in enumerate(batches):\n",
    "        \n",
    "        # 1. training dis\n",
    "        dis_optimizer.zero_grad()\n",
    "        \n",
    "        # 1.1 get input\n",
    "        inputs_real = Variable(batch[\"data\"]).cuda()\n",
    "        gen_seed    = Variable(torch.randn(BATCHSIZE,SEEDDIM)).cuda()\n",
    "        inputs_fake = gen(gen_seed)#.detach() \n",
    "        \n",
    "        # 1.2 get scores for real and fake\n",
    "        score_real = dis(inputs_real)\n",
    "        score_fake = dis(inputs_fake)\n",
    "        \n",
    "        # 1.3 calc loss\n",
    "        dis_loss = discriminator_loss(score_real, score_fake, \n",
    "                                      target_real,target_fake)\n",
    "        # 1.4 backprop and optimize\n",
    "        dis_loss.backward()\n",
    "        dis_optimizer.step()\n",
    "        \n",
    "        # 2. training gen\n",
    "        gen_optimizer.zero_grad()\n",
    "        \n",
    "        gen_seed = Variable(torch.randn(BATCHSIZE,SEEDDIM)).cuda()\n",
    "        gen_loss = generator_loss( dis(gen(gen_seed)), target_real)        \n",
    "        \n",
    "        gen_loss.backward()\n",
    "        gen_optimizer.step()   \n",
    "          \n",
    "\n",
    "        # TRAINING DESHBOARD #\n",
    "        ##################################################################\n",
    "        running_gen_loss += gen_loss.data[0]\n",
    "        running_dis_loss += dis_loss.data[0]\n",
    "        if i % 100 == 99:    # print every 100 mini-batches\n",
    "            print('[{:5d}, {:5d}] gen-loss: {:8.6f}, dis-loss: {:8.6f}'.\n",
    "                  format(epoch+1, i+1, running_gen_loss/100, running_dis_loss/100))\n",
    "            clear_output(wait=True)\n",
    "            running_gen_loss = 0.0\n",
    "            running_dis_loss = 0.0\n",
    "        ##################################################################"
   ]
  },
  {
   "cell_type": "markdown",
   "metadata": {},
   "source": [
    "# 2. Test Accuracy"
   ]
  },
  {
   "cell_type": "code",
   "execution_count": 10,
   "metadata": {
    "collapsed": true
   },
   "outputs": [],
   "source": [
    "gen_seed    = Variable(torch.randn(40,SEEDDIM)).cuda()\n",
    "inputs_fake = gen(gen_seed)\n",
    "images = inputs_fake.cpu()\n",
    "images = images.data.numpy()"
   ]
  },
  {
   "cell_type": "code",
   "execution_count": 11,
   "metadata": {},
   "outputs": [
    {
     "data": {
      "image/png": "[encoded data removed]",
      "text/plain": [
       "<matplotlib.figure.Figure at 0x1418f3f28>"
      ]
     },
     "metadata": {},
     "output_type": "display_data"
    }
   ],
   "source": [
    "plt.rc(\"figure\",facecolor=\"k\",figsize=(10,6))\n",
    "plt.style.use('dark_background')\n",
    "\n",
    "nrow = 5\n",
    "ncol = 8\n",
    "\n",
    "for row in range(nrow):\n",
    "    for col in range(ncol):\n",
    "        index = ncol*row + col\n",
    "        plt.subplot(nrow,ncol, index+1)\n",
    "        image = images[index]\n",
    "        image = image.reshape(28,28).T\n",
    "        plt.imshow(image,cmap='gray',vmax=0.9,vmin=-0.9)\n",
    "        plt.axis('off')\n",
    "        plt.axis('off')\n",
    "plt.savefig('../plot/dcgan.png',dpi=300)"
   ]
  },
  {
   "cell_type": "code",
   "execution_count": 7,
   "metadata": {
    "collapsed": true
   },
   "outputs": [],
   "source": [
    "torch.save(dis.cpu(),'../data/model/MNIST_DCGAN_DIS.pt') \n",
    "torch.save(gen.cpu(),'../data/model/MNIST_DCGAN_gen.pt')"
   ]
  },
  {
   "cell_type": "code",
   "execution_count": null,
   "metadata": {
    "collapsed": true
   },
   "outputs": [],
   "source": []
  }
 ],
 "metadata": {
  "kernelspec": {
   "display_name": "Python 3",
   "language": "python",
   "name": "python3"
  },
  "language_info": {
   "codemirror_mode": {
    "name": "ipython",
    "version": 3
   },
   "file_extension": ".py",
   "mimetype": "text/x-python",
   "name": "python",
   "nbconvert_exporter": "python",
   "pygments_lexer": "ipython3",
   "version": "3.6.1"
  }
 },
 "nbformat": 4,
 "nbformat_minor": 1
}

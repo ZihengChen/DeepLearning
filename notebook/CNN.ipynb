{
 "cells": [
  {
   "cell_type": "code",
   "execution_count": 1,
   "metadata": {
    "collapsed": true
   },
   "outputs": [],
   "source": [
    "from libPytorch.utility_dataset import *\n",
    "from libPytorch.model_CNN import *\n",
    "\n",
    "from IPython.display import clear_output\n",
    "\n",
    "from pylab import *\n",
    "%matplotlib inline"
   ]
  },
  {
   "cell_type": "markdown",
   "metadata": {},
   "source": [
    "# 0. Load dataset and Model"
   ]
  },
  {
   "cell_type": "code",
   "execution_count": 6,
   "metadata": {
    "collapsed": true
   },
   "outputs": [],
   "source": [
    "trnset = np.fromfile(\"../data/MNIST/MNIST_train_data.dat\").reshape(-1,785)\n",
    "tstset = np.fromfile(\"../data/MNIST/MNIST_test_data.dat\" ).reshape(-1,785)\n",
    "\n",
    "model = CNN()\n",
    "\n",
    "trnset = tcDataset(trnset,shape=(-1,1,28,28))\n",
    "tstset = tcDataset(tstset,shape=(-1,1,28,28))"
   ]
  },
  {
   "cell_type": "markdown",
   "metadata": {},
   "source": [
    "# 1. Training"
   ]
  },
  {
   "cell_type": "code",
   "execution_count": 7,
   "metadata": {},
   "outputs": [
    {
     "name": "stdout",
     "output_type": "stream",
     "text": [
      "[   20,   600] loss: 0.013, acc: 1.000\n"
     ]
    }
   ],
   "source": [
    "optimizer = optim.Adam(model.parameters(), lr=1e-3)\n",
    "\n",
    "batches   = DataLoader(trnset,batch_size=100, shuffle=True)\n",
    "model.cuda()\n",
    "model.train()\n",
    "# begin Training\n",
    "for epoch in range(20):\n",
    "    running_loss = 0.0\n",
    "    for i, batch in enumerate(batches):\n",
    "        \n",
    "        # 1.get the inputs\n",
    "        inputs = Variable(batch[\"data\"]).cuda()\n",
    "        labels = Variable(batch[\"label\"]).cuda()\n",
    "        # 2.zero the parameter gradients\n",
    "        optimizer.zero_grad()\n",
    "        # 3.forward + backward + optimize\n",
    "        outputs = model(inputs)\n",
    "        loss    = F.nll_loss( outputs, labels )\n",
    "        loss.backward()\n",
    "        optimizer.step()\n",
    "        \n",
    "        \n",
    "        # TRAINING DESHBOARD #\n",
    "        ##################################################################\n",
    "        running_loss += loss.data[0]\n",
    "        if i % 100 == 99:    # print every 100 mini-batches\n",
    "            predict = (outputs.data).max(1)[1]\n",
    "            correct = predict.eq(labels.data).sum()\n",
    "            accuracy= correct/batches.batch_size\n",
    "            print('[{:5d}, {:5d}] loss: {:5.3f}, acc: {:5.3f}'.\n",
    "                  format(epoch+1, i+1, running_loss/100, accuracy))\n",
    "            clear_output(wait=True)\n",
    "            running_loss = 0.0\n",
    "        ##################################################################\n"
   ]
  },
  {
   "cell_type": "markdown",
   "metadata": {},
   "source": [
    "# 2. Test Accuracy"
   ]
  },
  {
   "cell_type": "code",
   "execution_count": 14,
   "metadata": {},
   "outputs": [
    {
     "name": "stdout",
     "output_type": "stream",
     "text": [
      "acc:0.986\n"
     ]
    }
   ],
   "source": [
    "corrects = 0\n",
    "model.eval()\n",
    "model.cuda()\n",
    "for item in DataLoader(tstset):\n",
    "    inputs   = Variable(item[\"data\"])\n",
    "    labels   = Variable(item[\"label\"])\n",
    "    outputs  = model(inputs)\n",
    "    predicts = (outputs.data).max(1)[1] # get the index of the max log-probability\n",
    "    corrects = corrects + predicts.eq(labels.data).sum()\n",
    "    \n",
    "print(\"acc:{:5.3f}\".format(corrects/len(tstset)))"
   ]
  },
  {
   "cell_type": "code",
   "execution_count": null,
   "metadata": {
    "collapsed": true
   },
   "outputs": [],
   "source": []
  },
  {
   "cell_type": "code",
   "execution_count": null,
   "metadata": {
    "collapsed": true
   },
   "outputs": [],
   "source": []
  }
 ],
 "metadata": {
  "kernelspec": {
   "display_name": "Python 3",
   "language": "python",
   "name": "python3"
  },
  "language_info": {
   "codemirror_mode": {
    "name": "ipython",
    "version": 3
   },
   "file_extension": ".py",
   "mimetype": "text/x-python",
   "name": "python",
   "nbconvert_exporter": "python",
   "pygments_lexer": "ipython3",
   "version": "3.6.1"
  }
 },
 "nbformat": 4,
 "nbformat_minor": 1
}

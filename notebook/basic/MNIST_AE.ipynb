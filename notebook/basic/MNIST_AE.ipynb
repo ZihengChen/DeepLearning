{
 "cells": [
  {
   "cell_type": "code",
   "execution_count": 1,
   "metadata": {
    "collapsed": true
   },
   "outputs": [],
   "source": [
    "from pytorch_libraries.utility_dataset import *\n",
    "from pytorch_libraries.model_AE import *\n",
    "\n",
    "from IPython.display import clear_output\n",
    "\n",
    "from pylab import *\n",
    "%matplotlib inline\n",
    "#%qtconsole #--style monokai"
   ]
  },
  {
   "cell_type": "markdown",
   "metadata": {},
   "source": [
    "# 0. Load dataset and Model"
   ]
  },
  {
   "cell_type": "code",
   "execution_count": 2,
   "metadata": {
    "collapsed": true
   },
   "outputs": [],
   "source": [
    "trnset = np.fromfile(\"../data/MNIST/MNIST_train_data.dat\").reshape(-1,785)\n",
    "\n",
    "#model = torch.load('../data/model/MNIST_AEdnn.pt').cuda()\n",
    "model = AEdnn_MNIST().cuda()\n",
    "\n",
    "trnset  = tcDataset(trnset,shape=(-1,784))\n",
    "\n",
    "batches = DataLoader(trnset, batch_size=100, shuffle=False)"
   ]
  },
  {
   "cell_type": "markdown",
   "metadata": {},
   "source": [
    "# 1. Training"
   ]
  },
  {
   "cell_type": "code",
   "execution_count": 3,
   "metadata": {},
   "outputs": [
    {
     "name": "stdout",
     "output_type": "stream",
     "text": [
      "[   20,   600] loss: 3802.770\n"
     ]
    }
   ],
   "source": [
    "optimizer = optim.Adam(model.parameters(), lr=1e-3)\n",
    "#optimizer = optim.SGD(model.parameters(), lr=0.01, momentum=0.9)\n",
    "lossfunc  = loss_BCE\n",
    "\n",
    "model.train()\n",
    "# begin Training\n",
    "for epoch in range(20):\n",
    "    running_loss = 0.0\n",
    "    for i, batch in enumerate(batches):\n",
    "        \n",
    "        # 1.get the inputs\n",
    "        inputs = Variable(batch[\"data\"]).cuda()\n",
    "        labels = Variable(batch[\"label\"]).cuda()\n",
    "        # 2.zero the parameter gradients\n",
    "        optimizer.zero_grad()\n",
    "        # 3.forward + backward + optimize \n",
    "        recons, codes = model(inputs)\n",
    "        loss = lossfunc(recons, inputs)\n",
    "        \n",
    "        loss.backward()\n",
    "        optimizer.step()\n",
    "        \n",
    "        \n",
    "        # TRAINING DESHBOARD #\n",
    "        ##################################################################\n",
    "        running_loss += loss.data[0]\n",
    "        if i % 100 == 99:    # print every 100 mini-batches\n",
    "            print('[{:5d}, {:5d}] loss: {:5.3f}'.\n",
    "                  format(epoch+1, i+1, running_loss/100))\n",
    "            clear_output(wait=True)\n",
    "            running_loss = 0.0\n",
    "        ##################################################################"
   ]
  },
  {
   "cell_type": "markdown",
   "metadata": {},
   "source": [
    "# 2. Test Accuracy"
   ]
  },
  {
   "cell_type": "code",
   "execution_count": 10,
   "metadata": {
    "collapsed": true
   },
   "outputs": [],
   "source": [
    "model = model.cpu()\n",
    "\n",
    "model.eval()\n",
    "for batch in DataLoader(trnset,batch_size=len(trnset), shuffle=False):\n",
    "    inputs  = Variable(batch[\"data\"])\n",
    "    labels  = Variable(batch[\"label\"])\n",
    "    recons, codes = model(inputs)\n",
    "    \n",
    "codes = codes.data.numpy()\n",
    "recons = recons.data.numpy()"
   ]
  },
  {
   "cell_type": "code",
   "execution_count": 5,
   "metadata": {
    "collapsed": true
   },
   "outputs": [],
   "source": [
    "codes.tofile('../data/MNIST/MNIST_train_data_AE.dat')"
   ]
  },
  {
   "cell_type": "code",
   "execution_count": 11,
   "metadata": {},
   "outputs": [
    {
     "data": {
      "image/png": "[encoded data removed]",
      "text/plain": [
       "<matplotlib.figure.Figure at 0x13ac9c780>"
      ]
     },
     "metadata": {},
     "output_type": "display_data"
    }
   ],
   "source": [
    "fig = plt.figure(figsize=(3,10))\n",
    "nrow = 10\n",
    "for row in range(nrow):\n",
    "    plt.subplot(nrow,2,2*row+1)\n",
    "    a = trnset[row]['data']\n",
    "    a = a.reshape(28,28).T\n",
    "    imshow(a)\n",
    "    \n",
    "    plt.subplot(nrow,2,2*row+2)\n",
    "    a = recons[row]\n",
    "    a = a.reshape(28,28).T\n",
    "    imshow(a)"
   ]
  },
  {
   "cell_type": "code",
   "execution_count": 11,
   "metadata": {
    "collapsed": true
   },
   "outputs": [],
   "source": [
    "torch.save(model.cpu(),'../data/model/MNIST_AEdnn.pt') "
   ]
  },
  {
   "cell_type": "code",
   "execution_count": 19,
   "metadata": {},
   "outputs": [
    {
     "data": {
      "text/plain": [
       "array([ 0.        ,  3.80151677,  3.39571643,  3.67262959,  3.94010901,\n",
       "        3.24484611,  3.69064331,  2.80292702,  3.55240297,  3.29658771,\n",
       "        0.        ,  3.86220002,  3.35335541,  3.87509203,  4.55116558,\n",
       "        0.        ,  0.        ,  3.39449692,  0.        ,  3.3280673 ], dtype=float32)"
      ]
     },
     "execution_count": 19,
     "metadata": {},
     "output_type": "execute_result"
    }
   ],
   "source": [
    "codes.mean(axis=0)"
   ]
  },
  {
   "cell_type": "code",
   "execution_count": null,
   "metadata": {
    "collapsed": true
   },
   "outputs": [],
   "source": []
  }
 ],
 "metadata": {
  "kernelspec": {
   "display_name": "Python 3",
   "language": "python",
   "name": "python3"
  },
  "language_info": {
   "codemirror_mode": {
    "name": "ipython",
    "version": 3
   },
   "file_extension": ".py",
   "mimetype": "text/x-python",
   "name": "python",
   "nbconvert_exporter": "python",
   "pygments_lexer": "ipython3",
   "version": "3.6.1"
  }
 },
 "nbformat": 4,
 "nbformat_minor": 1
}

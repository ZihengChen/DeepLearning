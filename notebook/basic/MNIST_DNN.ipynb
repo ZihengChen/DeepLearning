{
 "cells": [
  {
   "cell_type": "code",
   "execution_count": 2,
   "metadata": {},
   "outputs": [],
   "source": [
    "from libPytorch.utility_dataset import *\n",
    "from libPytorch.model_DNN import *\n",
    "\n",
    "from IPython.display import clear_output\n",
    "\n",
    "from pylab import *\n",
    "%matplotlib inline"
   ]
  },
  {
   "cell_type": "markdown",
   "metadata": {},
   "source": [
    "# 0. Load dataset and Model"
   ]
  },
  {
   "cell_type": "code",
   "execution_count": 3,
   "metadata": {},
   "outputs": [
    {
     "ename": "FileNotFoundError",
     "evalue": "[Errno 2] No such file or directory: '../data/MNIST/MNIST_train_data.dat'",
     "output_type": "error",
     "traceback": [
      "\u001b[0;31m---------------------------------------------------------------------------\u001b[0m",
      "\u001b[0;31mFileNotFoundError\u001b[0m                         Traceback (most recent call last)",
      "\u001b[0;32m<ipython-input-3-afaaf80a2a5a>\u001b[0m in \u001b[0;36m<module>\u001b[0;34m()\u001b[0m\n\u001b[0;32m----> 1\u001b[0;31m \u001b[0mtrnset\u001b[0m \u001b[0;34m=\u001b[0m \u001b[0mnp\u001b[0m\u001b[0;34m.\u001b[0m\u001b[0mfromfile\u001b[0m\u001b[0;34m(\u001b[0m\u001b[0;34m\"../data/MNIST/MNIST_train_data.dat\"\u001b[0m\u001b[0;34m)\u001b[0m\u001b[0;34m.\u001b[0m\u001b[0mreshape\u001b[0m\u001b[0;34m(\u001b[0m\u001b[0;34m-\u001b[0m\u001b[0;36m1\u001b[0m\u001b[0;34m,\u001b[0m\u001b[0;36m785\u001b[0m\u001b[0;34m)\u001b[0m\u001b[0;34m\u001b[0m\u001b[0m\n\u001b[0m\u001b[1;32m      2\u001b[0m \u001b[0mtstset\u001b[0m \u001b[0;34m=\u001b[0m \u001b[0mnp\u001b[0m\u001b[0;34m.\u001b[0m\u001b[0mfromfile\u001b[0m\u001b[0;34m(\u001b[0m\u001b[0;34m\"../data/MNIST/MNIST_test_data.dat\"\u001b[0m \u001b[0;34m)\u001b[0m\u001b[0;34m.\u001b[0m\u001b[0mreshape\u001b[0m\u001b[0;34m(\u001b[0m\u001b[0;34m-\u001b[0m\u001b[0;36m1\u001b[0m\u001b[0;34m,\u001b[0m\u001b[0;36m785\u001b[0m\u001b[0;34m)\u001b[0m\u001b[0;34m\u001b[0m\u001b[0m\n\u001b[1;32m      3\u001b[0m \u001b[0mtrnset\u001b[0m\u001b[0;34m[\u001b[0m\u001b[0;34m:\u001b[0m\u001b[0;34m,\u001b[0m\u001b[0;34m-\u001b[0m\u001b[0;36m1\u001b[0m\u001b[0;34m]\u001b[0m \u001b[0;34m=\u001b[0m \u001b[0mtrnset\u001b[0m\u001b[0;34m[\u001b[0m\u001b[0;34m:\u001b[0m\u001b[0;34m,\u001b[0m\u001b[0;34m-\u001b[0m\u001b[0;36m1\u001b[0m\u001b[0;34m]\u001b[0m \u001b[0;34m-\u001b[0m\u001b[0;36m1\u001b[0m\u001b[0;34m\u001b[0m\u001b[0m\n\u001b[1;32m      4\u001b[0m \u001b[0mtstset\u001b[0m\u001b[0;34m[\u001b[0m\u001b[0;34m:\u001b[0m\u001b[0;34m,\u001b[0m\u001b[0;34m-\u001b[0m\u001b[0;36m1\u001b[0m\u001b[0;34m]\u001b[0m \u001b[0;34m=\u001b[0m \u001b[0mtstset\u001b[0m\u001b[0;34m[\u001b[0m\u001b[0;34m:\u001b[0m\u001b[0;34m,\u001b[0m\u001b[0;34m-\u001b[0m\u001b[0;36m1\u001b[0m\u001b[0;34m]\u001b[0m \u001b[0;34m-\u001b[0m\u001b[0;36m1\u001b[0m\u001b[0;34m\u001b[0m\u001b[0m\n\u001b[1;32m      5\u001b[0m \u001b[0;34m\u001b[0m\u001b[0m\n",
      "\u001b[0;31mFileNotFoundError\u001b[0m: [Errno 2] No such file or directory: '../data/MNIST/MNIST_train_data.dat'"
     ]
    }
   ],
   "source": [
    "trnset = np.fromfile(\"../data/MNIST/MNIST_train_data.dat\").reshape(-1,785)\n",
    "tstset = np.fromfile(\"../data/MNIST/MNIST_test_data.dat\" ).reshape(-1,785)\n",
    "trnset[:,-1] = trnset[:,-1] -1\n",
    "tstset[:,-1] = tstset[:,-1] -1\n",
    "\n",
    "model = DNN_4l(784,256,64,32,10).cuda()\n",
    "#torch.load('../data/model/MNIST_DNN.pt').cuda()\n",
    "\n",
    "trnset = tcDataset(trnset,shape=(-1,784))\n",
    "tstset = tcDataset(tstset,shape=(-1,784))"
   ]
  },
  {
   "cell_type": "markdown",
   "metadata": {},
   "source": [
    "# 1. Training"
   ]
  },
  {
   "cell_type": "code",
   "execution_count": 12,
   "metadata": {},
   "outputs": [
    {
     "name": "stdout",
     "output_type": "stream",
     "text": [
      "[   10,   600] loss: 0.067, acc: 0.950\n"
     ]
    }
   ],
   "source": [
    "optimizer = optim.Adam(model.parameters(), lr=1e-3)\n",
    "#optimizer = optim.SGD(model.parameters(), lr=0.1, momentum=0.9)\n",
    "batches   = DataLoader(trnset,batch_size=100, shuffle=True)\n",
    "\n",
    "model.train()\n",
    "# begin Training\n",
    "for epoch in range(10):\n",
    "    running_loss = 0.0\n",
    "    for i, batch in enumerate(batches):\n",
    "        \n",
    "        # 1.get the inputs\n",
    "        inputs = Variable(batch[\"data\"]).cuda()\n",
    "        labels = Variable(batch[\"label\"]).cuda()\n",
    "        # 2.zero the parameter gradients\n",
    "        optimizer.zero_grad()\n",
    "        # 3.forward + backward + optimize\n",
    "        outputs = model(inputs)\n",
    "        loss    = F.nll_loss( outputs, labels )\n",
    "        loss.backward()\n",
    "        optimizer.step()\n",
    "        \n",
    "        \n",
    "        # TRAINING DESHBOARD #\n",
    "        ##################################################################\n",
    "        running_loss += loss.data[0]\n",
    "        if i % 100 == 99:    # print every 100 mini-batches\n",
    "            predict = (outputs.data).max(1)[1]\n",
    "            correct = predict.eq(labels.data).sum()\n",
    "            accuracy= correct/batches.batch_size\n",
    "            print('[{:5d}, {:5d}] loss: {:5.3f}, acc: {:5.3f}'.\n",
    "                  format(epoch+1, i+1, running_loss/100, accuracy))\n",
    "            clear_output(wait=True)\n",
    "            running_loss = 0.0\n",
    "        ##################################################################\n"
   ]
  },
  {
   "cell_type": "markdown",
   "metadata": {},
   "source": [
    "# 2. Test Accuracy"
   ]
  },
  {
   "cell_type": "code",
   "execution_count": 13,
   "metadata": {},
   "outputs": [
    {
     "name": "stdout",
     "output_type": "stream",
     "text": [
      "acc:0.979\n"
     ]
    }
   ],
   "source": [
    "corrects = 0\n",
    "model.eval()\n",
    "for item in DataLoader(tstset):\n",
    "    inputs   = Variable(item[\"data\"]).cuda()\n",
    "    labels   = Variable(item[\"label\"]).cuda()\n",
    "    outputs  = model(inputs)\n",
    "    predicts = (outputs.data).max(1)[1] # get the index of the max log-probability\n",
    "    corrects = corrects + predicts.eq(labels.data).sum()\n",
    "    \n",
    "print(\"acc:{:5.3f}\".format(corrects/len(tstset)))"
   ]
  },
  {
   "cell_type": "code",
   "execution_count": 14,
   "metadata": {
    "collapsed": true
   },
   "outputs": [],
   "source": [
    "torch.save(model.cpu(),'../data/model/MNIST_DNN.pt') "
   ]
  },
  {
   "cell_type": "code",
   "execution_count": null,
   "metadata": {
    "collapsed": true
   },
   "outputs": [],
   "source": []
  }
 ],
 "metadata": {
  "kernelspec": {
   "display_name": "Python 3",
   "language": "python",
   "name": "python3"
  },
  "language_info": {
   "codemirror_mode": {
    "name": "ipython",
    "version": 3
   },
   "file_extension": ".py",
   "mimetype": "text/x-python",
   "name": "python",
   "nbconvert_exporter": "python",
   "pygments_lexer": "ipython3",
   "version": "3.6.1"
  }
 },
 "nbformat": 4,
 "nbformat_minor": 1
}
